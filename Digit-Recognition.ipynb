{
 "cells": [
  {
   "cell_type": "code",
   "execution_count": 1,
   "metadata": {
    "collapsed": false,
    "scrolled": false
   },
   "outputs": [
    {
     "name": "stdout",
     "output_type": "stream",
     "text": [
      "Digits data set, data shape =  (1797, 64)\n",
      "[[  0.   0.   5. ...,   0.   0.   0.]\n",
      " [  0.   0.   0. ...,  10.   0.   0.]\n",
      " [  0.   0.   0. ...,  16.   9.   0.]\n",
      " ..., \n",
      " [  0.   0.   1. ...,   6.   0.   0.]\n",
      " [  0.   0.   2. ...,  12.   0.   0.]\n",
      " [  0.   0.  10. ...,  12.   1.   0.]]\n"
     ]
    }
   ],
   "source": [
    "#show plate in the notebook\n",
    "%matplotlib inline\n",
    "\n",
    "# Standard scientific Python imports\n",
    "import matplotlib.pyplot as plt\n",
    "import numpy.linalg\n",
    "\n",
    "# Import datasets, classifiers and performance metrics\n",
    "from sklearn import datasets, metrics, svm, neighbors, linear_model\n",
    "\n",
    "# Import Counter\n",
    "from collections import Counter\n",
    "\n",
    "# The digits dataset\n",
    "digits = datasets.load_digits()\n",
    "\n",
    "print (\"Digits data set, data shape = \", digits.data.shape)\n",
    "print(digits.data)"
   ]
  },
  {
   "cell_type": "code",
   "execution_count": 2,
   "metadata": {
    "collapsed": false
   },
   "outputs": [
    {
     "name": "stdout",
     "output_type": "stream",
     "text": [
      "first item as 8x8 array - represents value  0\n"
     ]
    },
    {
     "data": {
      "image/png": "[encoded data removed]",
      "text/plain": [
       "<matplotlib.figure.Figure at 0x104a9b588>"
      ]
     },
     "metadata": {},
     "output_type": "display_data"
    },
    {
     "data": {
      "text/plain": [
       "array([[  0.,   0.,   5.,  13.,   9.,   1.,   0.,   0.],\n",
       "       [  0.,   0.,  13.,  15.,  10.,  15.,   5.,   0.],\n",
       "       [  0.,   3.,  15.,   2.,   0.,  11.,   8.,   0.],\n",
       "       [  0.,   4.,  12.,   0.,   0.,   8.,   8.,   0.],\n",
       "       [  0.,   5.,   8.,   0.,   0.,   9.,   8.,   0.],\n",
       "       [  0.,   4.,  11.,   0.,   1.,  12.,   7.,   0.],\n",
       "       [  0.,   2.,  14.,   5.,  10.,  12.,   0.,   0.],\n",
       "       [  0.,   0.,   6.,  13.,  10.,   0.,   0.,   0.]])"
      ]
     },
     "execution_count": 2,
     "metadata": {},
     "output_type": "execute_result"
    }
   ],
   "source": [
    "print (\"first item as 8x8 array - represents value \", digits.target[0])\n",
    "plt.imshow(digits.images[0], cmap=plt.cm.gray_r, interpolation='nearest')\n",
    "plt.show()\n",
    "\n",
    "# to see the array\n",
    "digits.images[0]"
   ]
  },
  {
   "cell_type": "code",
   "execution_count": 3,
   "metadata": {
    "collapsed": false
   },
   "outputs": [
    {
     "ename": "SyntaxError",
     "evalue": "Missing parentheses in call to 'print' (<ipython-input-3-976d6eb5caaf>, line 19)",
     "output_type": "error",
     "traceback": [
      "\u001b[0;36m  File \u001b[0;32m\"<ipython-input-3-976d6eb5caaf>\"\u001b[0;36m, line \u001b[0;32m19\u001b[0m\n\u001b[0;31m    print n_samples\u001b[0m\n\u001b[0m                  ^\u001b[0m\n\u001b[0;31mSyntaxError\u001b[0m\u001b[0;31m:\u001b[0m Missing parentheses in call to 'print'\n"
     ]
    }
   ],
   "source": [
    "# The data that we are interested in is made of 8x8 images of digits, let's\n",
    "# have a look at the first 3 images, stored in the `images` attribute of the\n",
    "# dataset.  If we were working from image files, we could load them using\n",
    "# pylab.imread.  Note that each image must have the same size. For these\n",
    "# images, we know which digit they represent: it is given in the 'target' of\n",
    "# the dataset.\n",
    "images_and_labels = list(zip(digits.images, digits.target))\n",
    "for index, (image, label) in enumerate(images_and_labels[:4]):\n",
    "    plt.subplot(2, 4, index + 1)\n",
    "    plt.axis('off')\n",
    "    plt.imshow(image, cmap=plt.cm.gray_r, interpolation='nearest')\n",
    "    plt.title('Training: %i' % label)\n",
    "\n",
    "# To apply a classifier on this data, we need to flatten the image, to\n",
    "# turn the data in a (samples, feature) matrix:\n",
    "n_samples = len(digits.images)\n",
    "data = digits.images.reshape((n_samples, -1))\n",
    "\n",
    "print n_samples\n",
    "\n",
    "print len(data)\n",
    "\n",
    "#plt.show()"
   ]
  },
  {
   "cell_type": "code",
   "execution_count": 21,
   "metadata": {
    "collapsed": false
   },
   "outputs": [
    {
     "name": "stdout",
     "output_type": "stream",
     "text": [
      "898\n",
      "Classification report for k = 1:\n",
      "             precision    recall  f1-score   support\n",
      "\n",
      "          0       0.99      0.99      0.99        88\n",
      "          1       0.96      0.97      0.96        91\n",
      "          2       0.99      0.97      0.98        86\n",
      "          3       0.91      0.92      0.92        91\n",
      "          4       0.99      0.95      0.97        92\n",
      "          5       0.96      0.98      0.97        91\n",
      "          6       0.99      1.00      0.99        91\n",
      "          7       0.99      0.99      0.99        89\n",
      "          8       0.94      0.92      0.93        87\n",
      "          9       0.91      0.93      0.92        92\n",
      "\n",
      "avg / total       0.96      0.96      0.96       898\n",
      "\n",
      "\n",
      "Confusion matrix:\n",
      "[[87  0  0  0  1  0  0  0  0  0]\n",
      " [ 0 88  1  0  0  0  0  0  2  0]\n",
      " [ 1  0 83  2  0  0  0  0  0  0]\n",
      " [ 0  0  0 84  0  2  0  1  2  2]\n",
      " [ 0  0  0  0 87  0  0  0  0  5]\n",
      " [ 0  0  0  0  0 89  1  0  0  1]\n",
      " [ 0  0  0  0  0  0 91  0  0  0]\n",
      " [ 0  0  0  0  0  0  0 88  1  0]\n",
      " [ 0  4  0  2  0  0  0  0 80  1]\n",
      " [ 0  0  0  4  0  2  0  0  0 86]]\n",
      "Classification report for k = 3:\n",
      "             precision    recall  f1-score   support\n",
      "\n",
      "          0       0.99      0.99      0.99        88\n",
      "          1       0.98      0.98      0.98        91\n",
      "          2       0.99      0.94      0.96        86\n",
      "          3       0.91      0.88      0.89        91\n",
      "          4       0.99      0.93      0.96        92\n",
      "          5       0.97      0.97      0.97        91\n",
      "          6       0.99      1.00      0.99        91\n",
      "          7       0.98      0.99      0.98        89\n",
      "          8       0.90      0.95      0.93        87\n",
      "          9       0.89      0.93      0.91        92\n",
      "\n",
      "avg / total       0.96      0.96      0.96       898\n",
      "\n",
      "\n",
      "Confusion matrix:\n",
      "[[87  0  0  0  1  0  0  0  0  0]\n",
      " [ 0 89  0  0  0  0  0  0  2  0]\n",
      " [ 1  0 81  4  0  0  0  0  0  0]\n",
      " [ 0  0  0 80  0  1  0  2  5  3]\n",
      " [ 0  0  0  0 86  0  0  0  0  6]\n",
      " [ 0  0  0  0  0 88  1  0  0  2]\n",
      " [ 0  0  0  0  0  0 91  0  0  0]\n",
      " [ 0  0  0  0  0  0  0 88  1  0]\n",
      " [ 0  2  1  1  0  0  0  0 83  0]\n",
      " [ 0  0  0  3  0  2  0  0  1 86]]\n",
      "Classification report for k = 5:\n",
      "             precision    recall  f1-score   support\n",
      "\n",
      "          0       0.99      1.00      0.99        88\n",
      "          1       0.96      0.98      0.97        91\n",
      "          2       0.98      0.93      0.95        86\n",
      "          3       0.90      0.88      0.89        91\n",
      "          4       1.00      0.93      0.97        92\n",
      "          5       0.97      0.98      0.97        91\n",
      "          6       0.99      1.00      0.99        91\n",
      "          7       0.95      0.99      0.97        89\n",
      "          8       0.92      0.91      0.91        87\n",
      "          9       0.89      0.92      0.90        92\n",
      "\n",
      "avg / total       0.95      0.95      0.95       898\n",
      "\n",
      "\n",
      "Confusion matrix:\n",
      "[[88  0  0  0  0  0  0  0  0  0]\n",
      " [ 0 89  0  0  0  0  0  0  1  1]\n",
      " [ 1  0 80  4  0  0  0  0  0  1]\n",
      " [ 0  0  1 80  0  1  0  3  4  2]\n",
      " [ 0  0  0  0 86  0  0  1  0  5]\n",
      " [ 0  0  0  0  0 89  1  0  0  1]\n",
      " [ 0  0  0  0  0  0 91  0  0  0]\n",
      " [ 0  0  0  0  0  0  0 88  1  0]\n",
      " [ 0  4  1  1  0  0  0  1 79  1]\n",
      " [ 0  0  0  4  0  2  0  0  1 85]]\n",
      "Classification report for k = 100:\n",
      "             precision    recall  f1-score   support\n",
      "\n",
      "          0       0.94      0.99      0.96        88\n",
      "          1       0.96      0.73      0.83        91\n",
      "          2       0.85      0.86      0.86        86\n",
      "          3       0.72      0.88      0.79        91\n",
      "          4       0.99      0.92      0.96        92\n",
      "          5       0.86      0.82      0.84        91\n",
      "          6       0.96      0.99      0.97        91\n",
      "          7       0.90      0.98      0.94        89\n",
      "          8       0.91      0.74      0.82        87\n",
      "          9       0.76      0.86      0.81        92\n",
      "\n",
      "avg / total       0.88      0.88      0.88       898\n",
      "\n",
      "\n",
      "Confusion matrix:\n",
      "[[87  0  0  0  1  0  0  0  0  0]\n",
      " [ 0 66  9  5  0  1  0  0  1  9]\n",
      " [ 1  0 74 11  0  0  0  0  0  0]\n",
      " [ 0  0  0 80  0  2  0  5  3  1]\n",
      " [ 4  0  0  0 85  0  0  2  1  0]\n",
      " [ 0  0  0  2  0 75  3  0  0 11]\n",
      " [ 0  1  0  0  0  0 90  0  0  0]\n",
      " [ 0  0  2  0  0  0  0 87  0  0]\n",
      " [ 0  2  2  7  0  5  1  2 64  4]\n",
      " [ 1  0  0  6  0  4  0  1  1 79]]\n",
      "Classification report for k = 500:\n",
      "             precision    recall  f1-score   support\n",
      "\n",
      "          0       0.55      0.98      0.70        88\n",
      "          1       0.86      0.07      0.12        91\n",
      "          2       0.36      0.28      0.32        86\n",
      "          3       0.32      0.88      0.47        91\n",
      "          4       0.74      0.43      0.55        92\n",
      "          5       0.67      0.56      0.61        91\n",
      "          6       0.62      0.90      0.74        91\n",
      "          7       0.89      0.66      0.76        89\n",
      "          8       0.45      0.37      0.41        87\n",
      "          9       0.28      0.05      0.09        92\n",
      "\n",
      "avg / total       0.58      0.52      0.48       898\n",
      "\n",
      "\n",
      "Confusion matrix:\n",
      "[[86  0  0  0  1  0  1  0  0  0]\n",
      " [ 3  6 28  9  7  0 13  0 17  8]\n",
      " [ 2  0 24 52  0  0  7  0  1  0]\n",
      " [ 1  0  1 80  0  2  0  3  4  0]\n",
      " [26  0  1  0 40  2 20  2  1  0]\n",
      " [11  0  0 21  0 51  5  0  0  3]\n",
      " [ 8  1  0  0  0  0 82  0  0  0]\n",
      " [ 0  0  3  3  4  4  0 59 16  0]\n",
      " [ 6  0  9 19  2 12  4  1 32  2]\n",
      " [14  0  0 67  0  5  0  1  0  5]]\n"
     ]
    }
   ],
   "source": [
    "# Create a classifier: a support vector classifier\n",
    "#classifier = svm.SVC(gamma=0.001)\n",
    "#classifier = neighbors.KNeighborsClassifier()\n",
    "#classifier = linear_model.LogisticRegression()\n",
    "data_sample = (n_samples/2)\n",
    "\n",
    "dist = [[0 for x in range(2)] for x in range(n_samples/2)]\n",
    "k_neighbors = []\n",
    "k = [1,3,5,100,500]\n",
    "predicted = [[0 for x in range(len(k))] for x in range(n_samples/2)]\n",
    "predicted_k = []\n",
    "data_test = data[n_samples/2 + 1:]\n",
    "expected = digits.target[n_samples / 2 + 1:]\n",
    "print len(expected)\n",
    "for index_sample in range(0, n_samples/2):\n",
    "    \n",
    "    for index in range(0, n_samples/2):\n",
    "        dist[index][0] = numpy.linalg.norm(data[index]-data_test[index_sample])\n",
    "        dist[index][1] = digits.target[index]\n",
    "\n",
    "    dist.sort(key=lambda dist: dist[0])\n",
    "    \n",
    "    #del predicted[:]\n",
    "    \n",
    "    for k_iterator in range(len(k)):\n",
    "        \n",
    "        del k_neighbors[:]\n",
    "    \n",
    "        for index_k in range (k[k_iterator]):\n",
    "            k_neighbors.insert(index_k, dist[index_k][1])\n",
    "    \n",
    "        #predicted.insert(index_sample,Counter(k_neighbors).most_common(1)[0][0])\n",
    "        predicted[index_sample][k_iterator] = Counter(k_neighbors).most_common(1)[0][0]\n",
    "\n",
    "\n",
    "for k_iterator in range(len(k)):\n",
    "    del predicted_k[:]\n",
    "    for index in range (n_samples/2):\n",
    "        predicted_k.insert(index, predicted[index][k_iterator])\n",
    "\n",
    "    print(\"Classification report for k = %s:\\n%s\\n\"\n",
    "                        % (k[k_iterator], metrics.classification_report(expected, predicted_k)))\n",
    "    print(\"Confusion matrix:\\n%s\" % metrics.confusion_matrix(expected, predicted_k))\n",
    "\n",
    "    \n",
    "# We learn the digits on the first half of the digits\n",
    "#classifier.fit(data[:n_samples / 2], digits.target[:n_samples / 2])"
   ]
  },
  {
   "cell_type": "code",
   "execution_count": 20,
   "metadata": {
    "collapsed": false
   },
   "outputs": [
    {
     "name": "stdout",
     "output_type": "stream",
     "text": [
      "Confusion matrix:\n",
      "[[86  0  0  0  1  0  1  0  0  0]\n",
      " [ 3  6 28  9  7  0 13  0 17  8]\n",
      " [ 2  0 24 52  0  0  7  0  1  0]\n",
      " [ 1  0  1 80  0  2  0  3  4  0]\n",
      " [26  0  1  0 40  2 20  2  1  0]\n",
      " [11  0  0 21  0 51  5  0  0  3]\n",
      " [ 8  1  0  0  0  0 82  0  0  0]\n",
      " [ 0  0  3  3  4  4  0 59 16  0]\n",
      " [ 6  0  9 19  2 12  4  1 32  2]\n",
      " [14  0  0 67  0  5  0  1  0  5]]\n"
     ]
    }
   ],
   "source": [
    "print(\"Confusion matrix:\\n%s\" % metrics.confusion_matrix(expected, predicted_k))"
   ]
  },
  {
   "cell_type": "code",
   "execution_count": null,
   "metadata": {
    "collapsed": true
   },
   "outputs": [],
   "source": [
    "# "
   ]
  }
 ],
 "metadata": {
  "kernelspec": {
   "display_name": "Python 3",
   "language": "python",
   "name": "python3"
  },
  "language_info": {
   "codemirror_mode": {
    "name": "ipython",
    "version": 3
   },
   "file_extension": ".py",
   "mimetype": "text/x-python",
   "name": "python",
   "nbconvert_exporter": "python",
   "pygments_lexer": "ipython3",
   "version": "3.4.3"
  }
 },
 "nbformat": 4,
 "nbformat_minor": 0
}
