{
 "cells": [
  {
   "cell_type": "code",
   "execution_count": 1,
   "metadata": {
    "collapsed": true
   },
   "outputs": [],
   "source": [
    "import numpy as np\n",
    "import pylab as py\n",
    "\n",
    "%matplotlib inline"
   ]
  },
  {
   "cell_type": "code",
   "execution_count": 2,
   "metadata": {
    "collapsed": false,
    "scrolled": true
   },
   "outputs": [
    {
     "name": "stdout",
     "output_type": "stream",
     "text": [
      "22050\n"
     ]
    }
   ],
   "source": [
    "# 5. Blind-source separation on sounds\n",
    "\n",
    "# read in sounds\n",
    "from sklearn.decomposition import FastICA\n",
    "import scipy.io.wavfile as wave\n",
    "\n",
    "\n",
    "#(rate, mario_1_data) = wave.read('back.wav')\n",
    "#(rate, mario_2_data) = wave.read('speech.wav')\n",
    "(rate, mario_1_data) = wave.read('test.wav')\n",
    "(rate, mario_2_data) = wave.read('test_2.wav')\n",
    "print(rate)"
   ]
  },
  {
   "cell_type": "code",
   "execution_count": 3,
   "metadata": {
    "collapsed": false
   },
   "outputs": [
    {
     "data": {
      "text/plain": [
       "165172"
      ]
     },
     "execution_count": 3,
     "metadata": {},
     "output_type": "execute_result"
    }
   ],
   "source": [
    "len(mario_2_data)"
   ]
  },
  {
   "cell_type": "code",
   "execution_count": 4,
   "metadata": {
    "collapsed": false
   },
   "outputs": [],
   "source": [
    "cut = len(mario_2_data)\n",
    "cut_mario_1_data = mario_1_data[:cut]"
   ]
  },
  {
   "cell_type": "code",
   "execution_count": 5,
   "metadata": {
    "collapsed": false
   },
   "outputs": [
    {
     "data": {
      "text/plain": [
       "(165172, 2)"
      ]
     },
     "execution_count": 5,
     "metadata": {},
     "output_type": "execute_result"
    }
   ],
   "source": [
    "original_X = np.array([cut_mario_1_data, mario_2_data])\n",
    "original_X=original_X.transpose()\n",
    "original_X.shape"
   ]
  },
  {
   "cell_type": "code",
   "execution_count": 6,
   "metadata": {
    "collapsed": false
   },
   "outputs": [
    {
     "name": "stdout",
     "output_type": "stream",
     "text": [
      "original_X sound dimensions: (165172, 2)\n"
     ]
    }
   ],
   "source": [
    "# mix the sounds with the following ratios: 2/1 and 2/3\n",
    "print('original_X sound dimensions:',original_X.shape)\n",
    "mixed_X = np.zeros(original_X.shape)\n",
    "\n",
    "# mixes that shouldn't have to be normalized\n",
    "mixed_X[:,0] = 2 * cut_mario_1_data + 2 * mario_2_data\n",
    "mixed_X[:,1] = 1 * cut_mario_1_data + 3 * mario_2_data\n",
    "\n",
    "# debugging info\n",
    "#print(bach_data.dtype)   # int16\n",
    "#print(mixed_X.dtype)     # should be int16\n",
    "\n",
    "# save the mixes\n",
    "wave.write('mix1.wav',rate, np.asarray(mixed_X[:,0],dtype=np.int16))\n",
    "wave.write('mix2.wav',rate, np.asarray(mixed_X[:,1],dtype=np.int16))"
   ]
  },
  {
   "cell_type": "code",
   "execution_count": 7,
   "metadata": {
    "collapsed": true
   },
   "outputs": [],
   "source": [
    "# now to unmix! (note, this algorithm knowns NOTHING about the \n",
    "# structure of the signal or the amount they were mixed)\n",
    "ica = FastICA(n_components=2)\n",
    "unmixed_X = ica.fit_transform(mixed_X)  # Reconstruct signals\n",
    "calculated_A = ica.mixing_  # Get estimated mixing matrix"
   ]
  },
  {
   "cell_type": "code",
   "execution_count": 8,
   "metadata": {
    "collapsed": false,
    "scrolled": true
   },
   "outputs": [
    {
     "name": "stdout",
     "output_type": "stream",
     "text": [
      "unnormalized mixing matrix:\n",
      " [[-447631.40660658 -889689.08454838]\n",
      " [-677961.4938234  -446830.81580844]]\n",
      "normalized mixing matrix\n",
      " [[ 2.          2.        ]\n",
      " [ 3.02910602  1.0044651 ]]\n"
     ]
    }
   ],
   "source": [
    "# and show and save the results\n",
    "print('unnormalized mixing matrix:\\n',calculated_A)\n",
    "\n",
    "# renormalize the mixing matrix to be compared with mixing ratios\n",
    "normed_A = np.zeros((2,2))\n",
    "normed_A[:,0] = calculated_A[:,0] / calculated_A[0,0] * 2\n",
    "normed_A[:,1] = calculated_A[:,1] / calculated_A[0,1] * 2\n",
    "print('normalized mixing matrix\\n',normed_A)\n",
    "\n",
    "wave.write('unmix1.wav',rate, np.asarray(unmixed_X[:,0] / np.max(unmixed_X[:,0]) * 14000,dtype=np.int16) )\n",
    "wave.write('unmix2.wav',rate, np.asarray(unmixed_X[:,1] / np.max(unmixed_X[:,1]) * 14000,dtype=np.int16))"
   ]
  },
  {
   "cell_type": "code",
   "execution_count": null,
   "metadata": {
    "collapsed": true
   },
   "outputs": [],
   "source": []
  }
 ],
 "metadata": {
  "kernelspec": {
   "display_name": "Python 3",
   "language": "python",
   "name": "python3"
  },
  "language_info": {
   "codemirror_mode": {
    "name": "ipython",
    "version": 3
   },
   "file_extension": ".py",
   "mimetype": "text/x-python",
   "name": "python",
   "nbconvert_exporter": "python",
   "pygments_lexer": "ipython3",
   "version": "3.4.3"
  }
 },
 "nbformat": 4,
 "nbformat_minor": 0
}
